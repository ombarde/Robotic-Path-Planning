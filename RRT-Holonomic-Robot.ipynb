{
 "cells": [
  {
   "cell_type": "markdown",
   "metadata": {},
   "source": [
    "# Holonomic Robot Path planning with Rapidly-exploring Random Trees"
   ]
  },
  {
   "cell_type": "markdown",
   "metadata": {},
   "source": [
    "### RRT Algorithm"
   ]
  },
  {
   "cell_type": "markdown",
   "metadata": {},
   "source": [
    "* The RRT Algorithm is a sampling-based path planning algorithm which randomly samples points in the environment and adds them to a tree based data structure. \n",
    "\n",
    "* They search high dimensional spaces by incrementally building random tree from random samples. The process of building a RRT and finding a path from starting to goal configuration can be broken down into simple steps:\n",
    "\n",
    "    1. Sample a random point within the environment\n",
    "    2. Find the node in the tree which is nearest to the random point and check for collisions with obstacles\n",
    "    3. Extend the tree towards the random point\n",
    "    4. Repeat steps 1 to 3. Stop iteration on reaching goal or within a threshold of the goal\n",
    "    \n",
    "**LINKS FOR RRT EVOLUTION VIDEO**\n",
    "https://www.youtube.com/watch?v=a4b-kEUc80w"
   ]
  },
  {
   "cell_type": "markdown",
   "metadata": {},
   "source": [
    "### Theory and Working of Holonomic Robot "
   ]
  },
  {
   "cell_type": "markdown",
   "metadata": {},
   "source": [
    "**Holonomic Robot**\n",
    "* A holonomic robot can kinematically reach any random configuration along the line of displacement. When the controllable degrees of freedom are equal to total degrees of freedom, then the robot is said to be Holonomic.eg. Omnidirectional robot.\n",
    "\n",
    "* It is capable of moving in any direction as the x and y components of its velocity are decoupled. There will be indepent control of v_x and v_y\n",
    "\n",
    "$$ x(t) = x(0) +  \\int_{0}^{t} v_x \\,dt $$\n",
    "$$ y(t) = y(0) +  \\int_{0}^{t} v_y \\,dt $$\n",
    "$$ v(t) = \\sqrt{v_{cx}^2 + v_{cy}^2} $$\n",
    "\n",
    "<!-- \n",
    "In the case of a mobile robot where\n",
    "$$\n",
    "d s=d x \\cos \\theta+d y \\sin \\theta\n",
    "$$\n",
    "and by comparing the equation above with\n",
    "$$\n",
    "d s=\\frac{\\partial s}{\\partial x} d x+\\frac{\\partial s}{\\partial y} d y+\\frac{\\partial s}{\\partial \\theta} d \\theta\n",
    "$$\n",
    "we find\n",
    "$$\n",
    "\\frac{\\partial s}{\\partial x}=\\cos \\theta ; \\quad \\frac{\\partial s}{\\partial y}=\\sin \\theta ; \\quad \\frac{\\partial s}{\\partial \\theta}=0\n",
    "$$\n",
    "Condition for an integrable (holonomic) function:\n",
    "$$\n",
    "\\frac{\\partial^{2} s}{\\partial x \\partial y}=\\frac{\\partial^{2} s}{\\partial y \\partial x} ; \\frac{\\partial^{2} s}{\\partial x \\partial \\theta}=\\frac{\\partial^{2} s}{\\partial \\theta \\partial x} ; \\frac{\\partial^{2} s}{\\partial y \\partial \\theta}=\\frac{\\partial^{2} s}{\\partial \\theta \\partial y}\n",
    "$$\n",
    "the second $(-\\sin \\theta=0)$ and third $(\\cos \\theta=0)$ term in equation do not hold! -->"
   ]
  },
  {
   "cell_type": "markdown",
   "metadata": {},
   "source": [
    "### Working of RRT for holonomic case"
   ]
  },
  {
   "cell_type": "markdown",
   "metadata": {},
   "source": [
    "* We used a three wheeled omnidirectional robot for implementing RRT algorithm for the holonomic case. The robot with a radius of 8 units and has three wheels aligned at an angle of 120 degrees from each other. \n",
    "* We used pygame interface to for custom selection of start and goal points. \n",
    "* For obstacle detection, we checked the intensity of all points in the RRT path and did not add the node to the RRT tree if black in color(obstacle).\n",
    "* Additionally, we also make sure the node is within the boundary\n",
    "* To find the RRT path, we used backtracking of all the parent nodes in the tree structure. \n",
    "* We also find the wheel trajectories for all three wheels of the robot by following the RRT path."
   ]
  },
  {
   "cell_type": "markdown",
   "metadata": {},
   "source": [
    "<!-- ![holo_1.png](./images/holo_1.pngwidth = 400) -->\n",
    "<div>\n",
    "<img src=\"./images/holo_1.png\" width=\"300\"/>\n",
    "</div>"
   ]
  },
  {
   "cell_type": "code",
   "execution_count": 1,
   "metadata": {},
   "outputs": [
    {
     "name": "stdout",
     "output_type": "stream",
     "text": [
      "pygame 2.0.0.dev4 (SDL 2.0.10, python 3.7.3)\n",
      "Hello from the pygame community. https://www.pygame.org/contribute.html\n"
     ]
    }
   ],
   "source": [
    "import pygame\n",
    "from random import randint as ri\n",
    "pygame.init()\n",
    "import time\n",
    "import numpy as np"
   ]
  },
  {
   "cell_type": "code",
   "execution_count": 2,
   "metadata": {},
   "outputs": [],
   "source": [
    "#Pygame parameters\n",
    "screen = pygame.display.set_mode([500, 550])\n",
    "SIDE_x = 20\n",
    "SIDE_y = 40\n",
    "WINDOW_width = 440\n",
    "WINDOW_height = 400\n",
    "GAME_border = 3\n",
    "WHITE=(255,255,255)\n",
    "BLUE=(0,0,255)\n",
    "BLACK=(0,0,0)\n",
    "RED=(255,0,0)\n",
    "GREEN=(0,255,0)\n",
    "RAND=(120,120,120)\n",
    "YELLOW = (0,0,102)\n",
    "C1=(39,38,53)\n",
    "C2=(19,51,62)\n",
    "C3=(31,3,24)\n",
    "screen.fill(WHITE)\n",
    "INT_MAX = 100000000000000\n",
    "\n",
    "#Cicular robot with radius 8\n",
    "robot_radius = 8"
   ]
  },
  {
   "cell_type": "markdown",
   "metadata": {},
   "source": [
    "## Construction of grid with obstacles"
   ]
  },
  {
   "cell_type": "markdown",
   "metadata": {},
   "source": [
    "* Using pygame, we addded random obstacles at specific locations , one rectangle and two circles of different radii were added."
   ]
  },
  {
   "cell_type": "code",
   "execution_count": 3,
   "metadata": {},
   "outputs": [],
   "source": [
    "class Environment:\n",
    "    def __init__ (self, colour, x, y, width, height):\n",
    "        self.colour = colour\n",
    "        self.x = x\n",
    "        self.y = y\n",
    "        self.width = width\n",
    "        self.height = height\n",
    "    def create(self,screen):\n",
    "        pygame.draw.rect(screen, self.colour, [self.x, self.y,self.width ,self.height])\n",
    "\n",
    "    def point_inside_game(self,x,y):\n",
    "        if x>SIDE_x+GAME_border and x<SIDE_x + WINDOW_width - GAME_border:\n",
    "                    if y>SIDE_y+GAME_border and y < SIDE_y + WINDOW_height - GAME_border:\n",
    "                        return(True)\n",
    "        return(False)\n",
    "\n",
    "    def random_point(self):        #Random Point Generator\n",
    "        x_random = ri(SIDE_x+GAME_border , SIDE_x + WINDOW_width - GAME_border - 1)\n",
    "        y_random = ri(SIDE_y+GAME_border , SIDE_y + WINDOW_height - GAME_border - 1 )\n",
    "        return((x_random, y_random))\n",
    "\n",
    "    def point_inside_rec(self,xr,yr,wr,hr,x,y): # Point inside given Rectangle ?\n",
    "        if x> xr and x < xr + wr:\n",
    "                    if y > yr and y < yr + hr:\n",
    "                        return(True)\n",
    "        return(False)\n",
    "\n",
    "    def p2p_dist(self,p1,p2):          # Point to Point Distance\n",
    "        x1,y1=p1\n",
    "        x2,y2=p2\n",
    "        return ( ( (x1-x2)**2 + (y1-y2)**2 )**0.5 )\n",
    "\n",
    "    def ClickText(self):          # Text on Environment\n",
    "        font = pygame.font.Font('freesansbold.ttf', 12)\n",
    "        text = font.render('CLICK HERE', True, WHITE)\n",
    "        textRect = text.get_rect()\n",
    "        textRect.center = (75, 495)\n",
    "        screen.blit(text, textRect)\n",
    "\n",
    "    def DesText(self,s,x=315,y=485):    # Description Text\n",
    "        pygame.draw.rect(screen,WHITE,(125,470,500,30))\n",
    "        font = pygame.font.SysFont('segoeuisemilight', 15)\n",
    "        text = font.render('%s'%(s), True, BLACK)\n",
    "        textRect = text.get_rect()\n",
    "        #textRect.center = (255, 460)\n",
    "        textRect.center = (x, y)\n",
    "        screen.blit(text, textRect)"
   ]
  },
  {
   "cell_type": "code",
   "execution_count": 4,
   "metadata": {},
   "outputs": [],
   "source": [
    "# Grid with random Obstacles\n",
    "\n",
    "#Environment for Game\n",
    "pygame.draw.rect(screen,BLACK,(SIDE_x,SIDE_y,WINDOW_width,WINDOW_height),GAME_border)\n",
    "pygame.draw.rect(screen,BLACK,(200,150,100,50))\n",
    "pygame.draw.circle(screen,BLACK,(100,150),20)\n",
    "pygame.draw.circle(screen,BLACK,(360,300),30)\n",
    "\n",
    "B1 = Environment(BLACK, 25, 470, 100, 50)\n",
    "B1.create(screen)\n",
    "OBS=dict()\n"
   ]
  },
  {
   "cell_type": "markdown",
   "metadata": {},
   "source": [
    "### Configuration Space generation for obstacles"
   ]
  },
  {
   "cell_type": "markdown",
   "metadata": {},
   "source": [
    "* Considering the robot has a fixed radius of 8 units, a configuration space was created for each of the obstacles."
   ]
  },
  {
   "cell_type": "code",
   "execution_count": 5,
   "metadata": {},
   "outputs": [],
   "source": [
    "def ConfSpace():\n",
    "    #CS for circle\n",
    "    pygame.draw.circle(screen,BLACK,(100,150),20+robot_radius)\n",
    "    pygame.draw.circle(screen,BLACK,(360,300),30+robot_radius)\n",
    "\n",
    "    #CS for rectangle\n",
    "    pygame.draw.circle(screen,BLACK,(200,150),robot_radius)\n",
    "    pygame.draw.circle(screen,BLACK,(300,200),robot_radius)\n",
    "    pygame.draw.circle(screen,BLACK,(200,200),robot_radius)\n",
    "    pygame.draw.circle(screen,BLACK,(300,150),robot_radius)\n",
    "\n",
    "    # left side of rectangle \n",
    "    pygame.draw.rect(screen,BLACK,(200-robot_radius,150,100,50))\n",
    "    # right side of rectangle \n",
    "    pygame.draw.rect(screen,BLACK,(300,150,robot_radius,50))\n",
    "    # bottom side of rectangle \n",
    "    pygame.draw.rect(screen,BLACK,(200,150-robot_radius,100,robot_radius))\n",
    "    # top side of rectangle \n",
    "    pygame.draw.rect(screen,BLACK,(200,200,100,robot_radius))\n"
   ]
  },
  {
   "cell_type": "markdown",
   "metadata": {},
   "source": [
    "##  RRT for Holonomic Robot"
   ]
  },
  {
   "cell_type": "markdown",
   "metadata": {},
   "source": [
    "<div>\n",
    "<img src=\"./images/holo_trj.png\" width=\"300\"/>\n",
    "</div>"
   ]
  },
  {
   "cell_type": "markdown",
   "metadata": {},
   "source": [
    "The blue strokes in the above image represent the random possible paths obtained in RRT."
   ]
  },
  {
   "cell_type": "code",
   "execution_count": 6,
   "metadata": {},
   "outputs": [],
   "source": [
    "#This function returns the nearest node in the graph for a randomly selected point\n",
    "def RRT(x,y,parent):\n",
    "    if (x,y) not in parent and screen.get_at((x,y)) != (0,0,0,255):\n",
    "        x_m,y_m=-1,-1\n",
    "        cur_min=INT_MAX\n",
    "        for v in parent:\n",
    "            if B1.p2p_dist(v,(x,y))<cur_min:\n",
    "                x_m,y_m=v\n",
    "                cur_min =  B1.p2p_dist(v,(x,y))\n",
    "\n",
    "        good = True\n",
    "        ans=[]\n",
    "        theta=np.arctan2((y-y_m),(x-x_m));\n",
    "        for i in range(Step):\n",
    "            x_mid=x_m+i*np.cos(theta)\n",
    "            y_mid=y_m+i*np.sin(theta)\n",
    "            if screen.get_at((int(x_mid),int(y_mid))) == (0,0,0,255):\n",
    "                good=False\n",
    "                break\n",
    "        if(good):\n",
    "            ans=[int(x_m+(Step)*np.cos(theta)),int(y_m+Step*np.sin(theta))]\n",
    "            return(good,x_m,y_m,ans)\n",
    "\n",
    "    return(False,-1,-1,[])\n"
   ]
  },
  {
   "cell_type": "code",
   "execution_count": 7,
   "metadata": {},
   "outputs": [],
   "source": [
    "running = True\n",
    "\n",
    "points = []\n",
    "\n",
    "#Number of forward Steps towards random sampled point\n",
    "Step = 10\n",
    "# Step = 30\n",
    "#Start stores a single point [Starting point- RED Point]\n",
    "Start=[]\n",
    "\n",
    "#End stores a set of destination point [Destination point- Green Point]\n",
    "#Multiple points allowed to make the point appear bigger, and fast discovery,\n",
    "#due to huge number of pixels in this game\n",
    "End=set()\n",
    "\n",
    "\n",
    "#parent stores the graph\n",
    "parent=dict()"
   ]
  },
  {
   "cell_type": "code",
   "execution_count": 8,
   "metadata": {},
   "outputs": [],
   "source": [
    "## Pygame Interface with user control\n",
    "level=0\n",
    "B1.ClickText()\n",
    "B1.DesText(\"Instruction :\",y=460)\n",
    "B1.DesText(\"Click the BLACK button below to view Configuration Space for Obstacles\")\n",
    "while running:\n",
    "    for event in pygame.event.get():\n",
    "        if event.type == pygame.QUIT:\n",
    "            running = False\n",
    "            break\n",
    "        if running==False:\n",
    "            break\n",
    "        m = pygame.mouse.get_pressed()\n",
    "        x,y = pygame.mouse.get_pos()\n",
    "\n",
    "        if m[0]==1:\n",
    "            if B1.point_inside_rec(B1.x,B1.y, B1.width, B1.height,x,y):\n",
    "                    if level==0:\n",
    "                        level+=1\n",
    "                        B1.colour=RED\n",
    "                        ConfSpace()\n",
    "                        B1.DesText(\"Click the RED button and select the STARTING POINT\")\n",
    "                    elif level==1 and Start==[]:\n",
    "                        level+=1\n",
    "                        B1.colour=GREEN\n",
    "                        B1.DesText(\"Click the GREEN button and select the DESTINATION POINT\")\n",
    "                    elif level==2 and Start:\n",
    "                        level+=1\n",
    "                        B1.colour=BLUE\n",
    "                        B1.DesText(\"Click the BLUE button to view the RRT path and wheel trajectories\")\n",
    "                    elif level==3 and End!=set():\n",
    "                        level+=1\n",
    "                        B1.colour=BLUE\n",
    "                        B1.DesText(\"Path is being explored using RRT Algorithm with wheel trajectories\")\n",
    "\n",
    "                    B1.create(screen)\n",
    "                    B1.ClickText()\n",
    "                    continue\n",
    "            elif level==1:\n",
    "                    OBS[(x,y)]=1\n",
    "\n",
    "            elif level == 2 and Start==[]:\n",
    "                if B1.point_inside_game(x,y):\n",
    "                    Start=(x,y)\n",
    "                    pygame.draw.circle(screen, RED, (x, y), 10)\n",
    "            elif level == 3 :\n",
    "                if B1.point_inside_game(x,y):\n",
    "                    End.add((x,y))\n",
    "                    pygame.draw.circle(screen, GREEN, (x, y), 10)\n",
    "        if level>=4:\n",
    "            running = False\n",
    "            break\n",
    "    pygame.display.update()\n",
    "\n",
    "    \n",
    "    "
   ]
  },
  {
   "cell_type": "markdown",
   "metadata": {},
   "source": [
    "## Random exploration of RRT in action"
   ]
  },
  {
   "cell_type": "code",
   "execution_count": 9,
   "metadata": {},
   "outputs": [],
   "source": [
    "    \n",
    "running = True\n",
    "parent[Start]=(-1,-1)\n",
    "Trace=[]\n",
    "\n",
    "Timer =  time.time()\n",
    "while(running):\n",
    "    for event in pygame.event.get():\n",
    "        if event.type == pygame.QUIT:\n",
    "            running = False\n",
    "            break\n",
    "    x,y =B1.random_point()\n",
    "    if (time.time() - Timer) > 5:\n",
    "        Step=5\n",
    "    good,x_m,y_m,ans=RRT(x,y,parent)\n",
    "\n",
    "    if good and ans:\n",
    "        x_cur = ans[0]\n",
    "        y_cur = ans[1]\n",
    "        if screen.get_at((x_cur,y_cur)) != (0,0,0,255) and (x_cur,y_cur) not in parent:\n",
    "            parent[(x_cur,y_cur)]=(x_m,y_m)\n",
    "            if screen.get_at((x_cur,y_cur)) == (0, 255, 0, 255):\n",
    "                Trace=(x_cur,y_cur)\n",
    "                running = False\n",
    "            pygame.draw.line(screen, BLUE, (x_cur,y_cur), (x_m,y_m), 2)\n",
    "    pygame.display.update()"
   ]
  },
  {
   "cell_type": "markdown",
   "metadata": {},
   "source": [
    "## Path via Backtracking with Wheel Trajectories "
   ]
  },
  {
   "cell_type": "markdown",
   "metadata": {},
   "source": [
    "* Once the goal(green dot) is reached, we backtrack nodes from the goal to the starting position to obtain the final trajectory of the center of the robot. \n",
    "* Using this, we find the trajectories of the respective wheels as written below."
   ]
  },
  {
   "cell_type": "markdown",
   "metadata": {},
   "source": [
    "### Wheel trajectories for the three wheels "
   ]
  },
  {
   "cell_type": "markdown",
   "metadata": {},
   "source": [
    "* The wheel trajectories of the robot are obtained by geometric transformations from the center point of the robot along the RRT path to the three wheel positions with angles of $\\theta$ , $\\theta$ - 120 , $\\theta$ + 120\n",
    "\n",
    "* The equations are :\n",
    "$$ x_{wheel} = x_{center} + radius * \\cos{\\theta} $$\n",
    "$$ y_{wheel} = y_{center} + radius * \\sin{\\theta} $$\n",
    "\n",
    "* Also, we rotated all the 3 wheels of robot by $\\theta_2 - \\theta_1$ at each intersection point of the consecutive step segments in the RRT path."
   ]
  },
  {
   "cell_type": "markdown",
   "metadata": {},
   "source": [
    "<div>\n",
    "<img src=\"./images/holo_wheels.png\" width=\"300\"/>\n",
    "</div>"
   ]
  },
  {
   "cell_type": "code",
   "execution_count": 10,
   "metadata": {},
   "outputs": [],
   "source": [
    "def WheelTraj_holonomic(r, points):\n",
    "    r=10\n",
    "    theta_list=[]\n",
    "\n",
    "\n",
    "    for i in range(len(points)-1):\n",
    "        px,py=points[i]\n",
    "        cx,cy=points[i+1]\n",
    "\n",
    "        theta=np.arctan2((py-cy),(px-cx))\n",
    "\n",
    "        theta_list.append(float(theta))\n",
    "\n",
    "        cx1=cx+r*np.cos(theta)\n",
    "        cy1=cy+r*np.sin(theta)\n",
    "        cx2=cx+r*np.cos(theta-2*(np.pi/3))\n",
    "        cy2=cy+r*np.sin(theta-2*(np.pi/3))\n",
    "        cx3=cx+r*np.cos(theta+2*(np.pi/3))\n",
    "        cy3=cy+r*np.sin(theta+2*(np.pi/3))\n",
    "        px1=px+r*np.cos(theta)\n",
    "        py1=py+r*np.sin(theta)\n",
    "        px2=px+r*np.cos(theta-2*(np.pi/3))\n",
    "        py2=py+r*np.sin(theta-2*(np.pi/3))\n",
    "        px3=px+r*np.cos(theta+2*(np.pi/3))\n",
    "        py3=py+r*np.sin(theta+2*(np.pi/3))\n",
    "        pygame.draw.line(screen, C1, (cx1,cy1), (px1,py1), 3)\n",
    "\n",
    "        pygame.draw.line(screen, C2, (cx2,cy2), (px2,py2), 3)\n",
    "        pygame.draw.line(screen, C3, (cx3,cy3), (px3,py3), 3)\n",
    "\n",
    "        if(len(theta_list)>1):\n",
    "            theta_old=theta_list[-2]\n",
    "            theta_new=theta_list[-1]\n",
    "            \n",
    "            step=(theta_new-theta_old)/10\n",
    "\n",
    "            for j in range(10):\n",
    "                temp=theta_old+step*j\n",
    "                pygame.draw.circle(screen, C1, (int(cx+r*np.cos(temp)), int(cy+r*np.sin(temp))), 1)\n",
    "                pygame.draw.circle(screen, C2, (int(cx+r*np.cos(temp-2*(np.pi/3))), int(cy+r*np.sin(temp-2*(np.pi/3)))), 1)\n",
    "                pygame.draw.circle(screen, C3, (int(cx+r*np.cos(temp+2*(np.pi/3))), int(cy+r*np.sin(temp+2*(np.pi/3)))), 1)\n"
   ]
  },
  {
   "cell_type": "code",
   "execution_count": 11,
   "metadata": {},
   "outputs": [],
   "source": [
    "running = True\n",
    "\n",
    "#This loop gets the route back to Start point\n",
    "while(Trace and running):\n",
    "    for event in pygame.event.get():\n",
    "        if event.type == pygame.QUIT:\n",
    "            running = False\n",
    "            break\n",
    "    while(Trace!=Start):\n",
    "        points.append(Trace)         \n",
    "        x,y = parent[Trace]\n",
    "        pygame.draw.line(screen, GREEN, (x,y), Trace, 2)\n",
    "        Trace=(x,y)\n",
    "    pygame.display.update()\n",
    "    points.append(Start)\n",
    "    WheelTraj_holonomic(robot_radius, points)    \n",
    "    \n",
    "\n",
    "#Quit\n",
    "pygame.quit()"
   ]
  },
  {
   "cell_type": "markdown",
   "metadata": {},
   "source": [
    "# Additional Features - Hand drawn obstacles using Pygame !!"
   ]
  },
  {
   "cell_type": "markdown",
   "metadata": {},
   "source": [
    "* We used pygame to draw our own obstacles and then used it for holonomic RRT exploration.\n",
    "* Run the file **<RRT_holonomic_drawn.py>** to view the results with pygame\n",
    "\n",
    "**LINK TO VIDEO**\n",
    "https://youtu.be/poVOsSNdEg4"
   ]
  },
  {
   "cell_type": "markdown",
   "metadata": {},
   "source": [
    "<div>\n",
    "<img src=\"./images/holo_draw.png\" width=\"300\"/>\n",
    "</div>"
   ]
  },
  {
   "cell_type": "markdown",
   "metadata": {},
   "source": [
    "## Contributions"
   ]
  },
  {
   "cell_type": "markdown",
   "metadata": {},
   "source": [
    "The assignment was done with equal contribution from both the members Sivani P. and Gowri L. <br>\n",
    "Gowri L. focussed on the holonomic part whereas Sivani focussed on the non-holonomic part. <br>\n",
    "The wheel trajectories were coded and debugged together. <br>"
   ]
  }
 ],
 "metadata": {
  "kernelspec": {
   "display_name": "Python 3",
   "language": "python",
   "name": "python3"
  },
  "language_info": {
   "codemirror_mode": {
    "name": "ipython",
    "version": 3
   },
   "file_extension": ".py",
   "mimetype": "text/x-python",
   "name": "python",
   "nbconvert_exporter": "python",
   "pygments_lexer": "ipython3",
   "version": "3.7.3"
  }
 },
 "nbformat": 4,
 "nbformat_minor": 4
}
